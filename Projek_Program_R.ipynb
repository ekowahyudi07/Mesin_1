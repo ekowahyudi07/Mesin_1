{
  "cells": [
    {
      "cell_type": "markdown",
      "metadata": {
        "id": "view-in-github",
        "colab_type": "text"
      },
      "source": [
        "<a href=\"https://colab.research.google.com/github/ekowahyudi07/Mesin_1/blob/main/Projek_Program_R.ipynb\" target=\"_parent\"><img src=\"https://colab.research.google.com/assets/colab-badge.svg\" alt=\"Open In Colab\"/></a>"
      ]
    },
    {
      "cell_type": "code",
      "execution_count": null,
      "metadata": {
        "id": "m43k_YUzVXo8"
      },
      "outputs": [],
      "source": []
    },
    {
      "cell_type": "code",
      "execution_count": null,
      "metadata": {
        "id": "0PC7J9suYI-B"
      },
      "outputs": [],
      "source": []
    },
    {
      "cell_type": "markdown",
      "metadata": {
        "id": "ojXUf_aJYJU7"
      },
      "source": []
    },
    {
      "cell_type": "code",
      "execution_count": null,
      "metadata": {
        "id": "6oQm4WCBXmkm"
      },
      "outputs": [],
      "source": []
    },
    {
      "cell_type": "markdown",
      "metadata": {
        "id": "ouczHjPdaWJp"
      },
      "source": [
        "#1.&nbsp;Instal Program R di Pyhton"
      ]
    },
    {
      "cell_type": "markdown",
      "metadata": {
        "id": "xEcuT8bmalmX"
      },
      "source": []
    },
    {
      "cell_type": "code",
      "execution_count": null,
      "metadata": {
        "colab": {
          "base_uri": "https://localhost:8080/"
        },
        "id": "bNOtj1QfbGx1",
        "outputId": "e5589e4c-ceea-471a-d5a8-5378bf2997ab"
      },
      "outputs": [
        {
          "name": "stdout",
          "output_type": "stream",
          "text": [
            "Reading package lists... Done\n",
            "Building dependency tree... Done\n",
            "Reading state information... Done\n",
            "r-base is already the newest version (4.4.1-3.2204.0).\n",
            "0 upgraded, 0 newly installed, 0 to remove and 49 not upgraded.\n"
          ]
        }
      ],
      "source": [
        "# Mengubah runtime ke R\n",
        "!apt-get install r-base\n"
      ]
    },
    {
      "cell_type": "markdown",
      "metadata": {
        "id": "DlWOxB6HduQC"
      },
      "source": []
    },
    {
      "cell_type": "markdown",
      "metadata": {
        "id": "t-gMkXhwa4ZT"
      },
      "source": [
        "#1.1&nbsp;Latihan 1 (Menggunakan R di Lingkungan Pyhton)"
      ]
    },
    {
      "cell_type": "code",
      "execution_count": null,
      "metadata": {
        "colab": {
          "base_uri": "https://localhost:8080/",
          "height": 489
        },
        "id": "X0-yf3lzehUh",
        "outputId": "b0666d07-3a22-4133-da70-2bb0d11b02bb"
      },
      "outputs": [
        {
          "name": "stdout",
          "output_type": "stream",
          "text": [
            "[1] \"True time: 5\"\n",
            "[1] \"Mean time: 4.99979843508669\"\n",
            "[1] \"Standard deviation of time: 0.0958327845802129\"\n"
          ]
        },
        {
          "data": {
            "image/png": "[encoded data removed]",
            "text/plain": [
              "Plot with title “Distribution of Measurements”"
            ]
          },
          "metadata": {
            "image/png": {
              "height": 420,
              "width": 420
            }
          },
          "output_type": "display_data"
        }
      ],
      "source": [
        "# Set the number of measurements\n",
        "n <- 100\n",
        "\n",
        "# Set the true value of the time\n",
        "true_time <- 5\n",
        "\n",
        "# Set the standard deviation of the measurements\n",
        "sd <- 0.1\n",
        "\n",
        "# Generate the measurements\n",
        "measurements <- rnorm(n, mean = true_time, sd = sd)\n",
        "\n",
        "# Calculate the mean of the measurements\n",
        "mean_time <- mean(measurements)\n",
        "\n",
        "# Calculate the standard deviation of the measurements\n",
        "sd_time <- sd(measurements)\n",
        "\n",
        "# Print the results\n",
        "print(paste(\"True time:\", true_time))\n",
        "print(paste(\"Mean time:\", mean_time))\n",
        "print(paste(\"Standard deviation of time:\", sd_time))\n",
        "\n",
        "# Plot the measurements\n",
        "hist(measurements, main = \"Distribution of Measurements\", xlab = \"Time\")"
      ]
    },
    {
      "cell_type": "markdown",
      "metadata": {
        "id": "ca65_n3Vcw3u"
      },
      "source": [
        "#1.1&nbsp;Latihan **[2]**\n"
      ]
    },
    {
      "cell_type": "code",
      "execution_count": null,
      "metadata": {
        "colab": {
          "base_uri": "https://localhost:8080/",
          "height": 159
        },
        "id": "UN0lW7KNe0dk",
        "outputId": "515d251e-6a0e-4469-dca8-d8b9e34aab45"
      },
      "outputs": [
        {
          "ename": "ERROR",
          "evalue": "Error in loadNamespace(x): there is no package called ‘pacman’\n",
          "output_type": "error",
          "traceback": [
            "Error in loadNamespace(x): there is no package called ‘pacman’\nTraceback:\n",
            "1. withRestarts(stop(cond), retry_loadNamespace = function() NULL)",
            "2. withOneRestart(expr, restarts[[1L]])",
            "3. doWithOneRestart(return(expr), restart)",
            "4. stop(cond)"
          ]
        }
      ],
      "source": [
        "#1. Instal dan Jalankan Paket yang Dibutuhkan\n",
        "pacman::p_load(dplyr, car, psych, CTT, TAM, ltm, eRm, mirt, WrightMap, lavaan, semPlot,\n",
        "               lavaanPlot, difR, FactoMineR, factoextra)"
      ]
    },
    {
      "cell_type": "code",
      "execution_count": null,
      "metadata": {
        "colab": {
          "base_uri": "https://localhost:8080/",
          "height": 245
        },
        "id": "LRdqrOXedVj_",
        "outputId": "637df025-8f30-4ea2-f43d-570fe49f4e71"
      },
      "outputs": [
        {
          "ename": "ERROR",
          "evalue": "Error: object 'CTT' not found\n",
          "output_type": "error",
          "traceback": [
            "Error: object 'CTT' not found\nTraceback:\n",
            "1. .handleSimpleError(function (cnd) \n . {\n .     watcher$capture_plot_and_output()\n .     cnd <- sanitize_call(cnd)\n .     watcher$push(cnd)\n .     switch(on_error, continue = invokeRestart(\"eval_continue\"), \n .         stop = invokeRestart(\"eval_stop\"), error = invokeRestart(\"eval_error\", \n .             cnd))\n . }, \"object 'CTT' not found\", base::quote(eval(expr, envir)))"
          ]
        }
      ],
      "source": [
        "install.packages (CTT)"
      ]
    },
    {
      "cell_type": "code",
      "execution_count": null,
      "metadata": {
        "colab": {
          "background_save": true,
          "base_uri": "https://localhost:8080/"
        },
        "id": "fVd0cqxAdh62",
        "outputId": "b166733c-40b5-4116-dae4-e14012179ba9"
      },
      "outputs": [
        {
          "name": "stderr",
          "output_type": "stream",
          "text": [
            "Loading required package: mirt\n",
            "\n",
            "Warning message in library(package, lib.loc = lib.loc, character.only = TRUE, logical.return = TRUE, :\n",
            "“there is no package called ‘mirt’”\n",
            "Installing package into ‘/usr/local/lib/R/site-library’\n",
            "(as ‘lib’ is unspecified)\n",
            "\n",
            "also installing the dependencies ‘audio’, ‘globals’, ‘listenv’, ‘R.oo’, ‘R.methodsS3’, ‘permute’, ‘parallelly’, ‘snow’, ‘beepr’, ‘RPushbullet’, ‘future’, ‘future.apply’, ‘progressr’, ‘R.utils’, ‘GPArotation’, ‘gridExtra’, ‘vegan’, ‘Deriv’, ‘pbapply’, ‘dcurver’, ‘SimDesign’, ‘RcppArmadillo’\n",
            "\n",
            "\n",
            "Warning message in install.packages(\"mirt\"):\n",
            "“installation of package ‘RPushbullet’ had non-zero exit status”\n",
            "Warning message in install.packages(\"mirt\"):\n",
            "“installation of package ‘SimDesign’ had non-zero exit status”\n",
            "Warning message in install.packages(\"mirt\"):\n",
            "“installation of package ‘mirt’ had non-zero exit status”\n"
          ]
        }
      ],
      "source": [
        "# prompt: INSTALKAN PAKET MIRT\n",
        "\n",
        "if (!require(\"mirt\")) install.packages(\"mirt\")"
      ]
    },
    {
      "cell_type": "markdown",
      "metadata": {
        "id": "1ns2bxrVdIdr"
      },
      "source": []
    }
  ],
  "metadata": {
    "accelerator": "GPU",
    "colab": {
      "gpuType": "T4",
      "provenance": [],
      "authorship_tag": "ABX9TyNdfRbP+f3xo9f8KNk76lvz",
      "include_colab_link": true
    },
    "kernelspec": {
      "display_name": "R",
      "name": "ir"
    },
    "language_info": {
      "name": "R"
    }
  },
  "nbformat": 4,
  "nbformat_minor": 0
}